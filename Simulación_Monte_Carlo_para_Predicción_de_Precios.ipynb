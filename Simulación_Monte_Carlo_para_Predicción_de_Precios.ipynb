{
  "nbformat": 4,
  "nbformat_minor": 0,
  "metadata": {
    "colab": {
      "private_outputs": true,
      "provenance": [],
      "authorship_tag": "ABX9TyOp5I5g1WSIdUbv4739XUG8",
      "include_colab_link": true
    },
    "kernelspec": {
      "name": "python3",
      "display_name": "Python 3"
    },
    "language_info": {
      "name": "python"
    }
  },
  "cells": [
    {
      "cell_type": "markdown",
      "metadata": {
        "id": "view-in-github",
        "colab_type": "text"
      },
      "source": [
        "<a href=\"https://colab.research.google.com/github/WellcomePeujio/Simulacion-Monte-Carlo-para-Prediccion-de-Precios/blob/main/Simulaci%C3%B3n_Monte_Carlo_para_Predicci%C3%B3n_de_Precios.ipynb\" target=\"_parent\"><img src=\"https://colab.research.google.com/assets/colab-badge.svg\" alt=\"Open In Colab\"/></a>"
      ]
    },
    {
      "cell_type": "markdown",
      "source": [
        "# Simulación Monte Carlo para Predicción de Precios\n",
        "\n",
        "**Problema**: Una acción tiene un precio actual de $50, un rendimiento esperado del 8% y una volatilidad del 20%. La tasa libre de riesgo es del 3%.\n",
        "\n",
        "**Preguntas**:\n",
        "\n",
        "1. Simula los precios diarios de la acción durante un año usando el modelo de **Caminata Aleatoria Geométrica**:\n",
        "\n",
        "$$\n",
        "S_t = S_{t-1} e^{\\left(r - \\frac{\\sigma^2}{2}\\right)\\Delta t + \\sigma \\epsilon \\sqrt{\\Delta t}}\n",
        "$$\n",
        "\n",
        "Donde:\n",
        "- $S_t$ es el precio de la acción en el tiempo $t$.\n",
        "- $S_{t-1}$ es el precio de la acción en el tiempo $t-1$.\n",
        "- $r$ es el rendimiento esperado.\n",
        "- $\\sigma$ es la volatilidad.\n",
        "- $\\epsilon$ es una variable aleatoria con distribución normal estándar.\n",
        "- $\\Delta t$ es el paso de tiempo.\n",
        "\n",
        "2. Genera un gráfico con **10 trayectorias simuladas**.\n"
      ],
      "metadata": {
        "id": "5Uut85pe94M0"
      }
    },
    {
      "cell_type": "markdown",
      "source": [
        "# Resolución del Problema: Simulación Monte Carlo para Predicción de Precios\n",
        "\n",
        "## Paso 1: Definir los Parámetros del Modelo\n",
        "\n",
        "Los parámetros dados son:\n",
        "- Precio inicial ($S_0$): $50$\n",
        "- Rendimiento esperado ($r$): $8\\%$ o $0.08$\n",
        "- Volatilidad ($\\sigma$): $20\\%$ o $0.20$\n",
        "- Tasa libre de riesgo ($r_f$): $3\\%$ o $0.03$\n",
        "- Número de días en un año ($T$): $252$\n",
        "- Número de simulaciones: $10$\n",
        "\n",
        "El modelo de Caminata Aleatoria Geométrica está definido como:\n",
        "\n",
        "$$\n",
        "S_t = S_{t-1} e^{\\left(r - \\frac{\\sigma^2}{2}\\right)\\Delta t + \\sigma \\epsilon \\sqrt{\\Delta t}}\n",
        "$$\n",
        "\n",
        "Donde:\n",
        "- $S_t$: Precio en el tiempo $t$.\n",
        "- $S_{t-1}$: Precio en el tiempo $t-1$.\n",
        "- $r$: Rendimiento esperado.\n",
        "- $\\sigma$: Volatilidad.\n",
        "- $\\epsilon$: Variable aleatoria con distribución normal estándar.\n",
        "- $\\Delta t$: Paso de tiempo, igual a $\\frac{1}{252}$ para días en un año.\n",
        "\n",
        "---\n",
        "\n",
        "## Paso 2: Calcular el Incremento del Precio\n",
        "\n",
        "El paso de tiempo $\\Delta t$ es:\n",
        "\n",
        "$$\n",
        "\\Delta t = \\frac{1}{252}\n",
        "$$\n",
        "\n",
        "El término del drift (tendencia esperada) es:\n",
        "\n",
        "$$\n",
        "\\mu = r - \\frac{\\sigma^2}{2}\n",
        "$$\n",
        "\n",
        "Sustituyendo los valores:\n",
        "\n",
        "$$\n",
        "\\mu = 0.08 - \\frac{(0.20)^2}{2} = 0.08 - 0.02 = 0.06\n",
        "$$\n",
        "\n",
        "El término de ruido (aleatoriedad) es:\n",
        "\n",
        "$$\n",
        "\\sigma \\epsilon \\sqrt{\\Delta t}\n",
        "$$\n",
        "\n",
        "Donde $\\epsilon \\sim N(0, 1)$ (distribución normal estándar).\n",
        "\n",
        "---\n",
        "\n",
        "## Paso 3: Iterar los Precios Simulados\n",
        "\n",
        "Para cada día, el precio se calcula como:\n",
        "\n",
        "$$\n",
        "S_t = S_{t-1} e^{\\mu \\Delta t + \\sigma \\epsilon \\sqrt{\\Delta t}}\n",
        "$$\n",
        "\n",
        "Con las siguientes condiciones iniciales:\n",
        "- $S_0 = 50$.\n",
        "- $t = 1, 2, \\dots, 252$ (un año).\n",
        "- Generamos 10 trayectorias diferentes para representar posibles escenarios.\n",
        "\n",
        "---\n",
        "\n",
        "## Paso 4: Interpretación y Visualización\n",
        "\n",
        "Al simular las trayectorias, podemos observar las posibles fluctuaciones del precio de la acción durante un año. Esto nos ayuda a entender los riesgos y las posibles tendencias del precio bajo incertidumbre.\n",
        "\n",
        "Finalmente, generamos un gráfico con 10 trayectorias simuladas para visualizar los resultados.\n"
      ],
      "metadata": {
        "id": "nee2Ctjm9_Ky"
      }
    },
    {
      "cell_type": "code",
      "source": [
        "import numpy as np\n",
        "import matplotlib.pyplot as plt\n",
        "\n",
        "# Parámetros del modelo\n",
        "S0 = 50  # Precio inicial\n",
        "r = 0.08  # Rendimiento esperado\n",
        "sigma = 0.20  # Volatilidad\n",
        "T = 252  # Días en un año\n",
        "dt = 1 / T  # Paso de tiempo diario\n",
        "n_simulaciones = 10  # Número de trayectorias simuladas\n",
        "\n",
        "# Inicializar matriz para las simulaciones\n",
        "simulaciones = np.zeros((T, n_simulaciones))\n",
        "simulaciones[0] = S0  # Establecer el precio inicial\n",
        "\n",
        "# Simulación de Caminata Aleatoria Geométrica\n",
        "np.random.seed(42)  # Para reproducibilidad\n",
        "for t in range(1, T):\n",
        "    Z = np.random.normal(0, 1, n_simulaciones)  # Variable aleatoria normal estándar\n",
        "    simulaciones[t] = simulaciones[t - 1] * np.exp((r - 0.5 * sigma**2) * dt + sigma * Z * np.sqrt(dt))\n",
        "\n",
        "# Gráfica de las trayectorias simuladas\n",
        "plt.figure(figsize=(12, 6))\n",
        "for i in range(n_simulaciones):\n",
        "    plt.plot(simulaciones[:, i], lw=1.5, alpha=0.8)\n",
        "plt.title('Simulación Monte Carlo: Trayectorias del Precio de la Acción', fontsize=16)\n",
        "plt.xlabel('Días', fontsize=14)\n",
        "plt.ylabel('Precio ($)', fontsize=14)\n",
        "plt.grid(True)\n",
        "plt.show()"
      ],
      "metadata": {
        "id": "dRz3Pluq-Of5"
      },
      "execution_count": null,
      "outputs": []
    }
  ]
}